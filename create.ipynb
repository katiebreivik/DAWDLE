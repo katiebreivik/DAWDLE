{
 "cells": [
  {
   "cell_type": "markdown",
   "metadata": {},
   "source": [
    "# Making LISA-band DWD populations"
   ]
  },
  {
   "cell_type": "markdown",
   "metadata": {},
   "source": [
    "To make a set of populations for a specific DWD type, you will run create.py. __!!This function assumes you are using the reduced dat files!! Or else the conv file it retrieves will be wrong.!!__\n",
    "the DWD argument is used to specify which DWD type you want (it will automatically create 30 populations: two models F50 and FZ, each with the 15 metallicity values from our grid)"
   ]
  },
  {
   "cell_type": "markdown",
   "metadata": {},
   "source": [
    "example: \\\n",
    "    run create.py --DWD He_He --interfile False \\\n",
    "    run create.py --DWD CO_He --interfile False \\\n",
    "    run create.py --DWD CO_CO --interfile False \\\n",
    "    run create.py --DWD ONe --interfile False"
   ]
  },
  {
   "cell_type": "markdown",
   "metadata": {},
   "source": [
    "Because such a high volume of stars is sampled for most of the DWD types (ONe+XX can be done in about an hour on the command line so that one is not unreasonable), these usually need to be done through a computing cluster."
   ]
  },
  {
   "cell_type": "code",
   "execution_count": null,
   "metadata": {},
   "outputs": [],
   "source": []
  }
 ],
 "metadata": {
  "kernelspec": {
   "display_name": "Python 3",
   "language": "python",
   "name": "python3"
  },
  "language_info": {
   "codemirror_mode": {
    "name": "ipython",
    "version": 3
   },
   "file_extension": ".py",
   "mimetype": "text/x-python",
   "name": "python",
   "nbconvert_exporter": "python",
   "pygments_lexer": "ipython3",
   "version": "3.7.10"
  }
 },
 "nbformat": 4,
 "nbformat_minor": 4
}
